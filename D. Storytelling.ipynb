{
 "cells": [
  {
   "cell_type": "markdown",
   "id": "fcae94a6",
   "metadata": {},
   "source": [
    "# Cobify technical challenge"
   ]
  },
  {
   "cell_type": "markdown",
   "id": "ddf2b490",
   "metadata": {},
   "source": [
    "**Ainara Guerra Fernández**"
   ]
  },
  {
   "cell_type": "markdown",
   "id": "82b300ce",
   "metadata": {},
   "source": [
    "# <span style=\"color:#FF33A8\"> D. Storytelling"
   ]
  },
  {
   "cell_type": "markdown",
   "id": "975ce47c",
   "metadata": {},
   "source": [
    "## What metrics are you obtaining?"
   ]
  },
  {
   "cell_type": "markdown",
   "id": "d7e5c8ed",
   "metadata": {},
   "source": [
    "## Explain your conclusions"
   ]
  },
  {
   "cell_type": "markdown",
   "id": "f7e4194d",
   "metadata": {},
   "source": [
    "## Shape your new data and conclusions in such a way that is appealing to the listener and tells a story"
   ]
  },
  {
   "cell_type": "markdown",
   "id": "ec1c7745",
   "metadata": {},
   "source": [
    "<img src=\"visualizations_conclusions.png\">\n"
   ]
  }
 ],
 "metadata": {
  "kernelspec": {
   "display_name": "Python 3 (ipykernel)",
   "language": "python",
   "name": "python3"
  },
  "language_info": {
   "codemirror_mode": {
    "name": "ipython",
    "version": 3
   },
   "file_extension": ".py",
   "mimetype": "text/x-python",
   "name": "python",
   "nbconvert_exporter": "python",
   "pygments_lexer": "ipython3",
   "version": "3.9.13"
  }
 },
 "nbformat": 4,
 "nbformat_minor": 5
}
